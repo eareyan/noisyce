{
 "cells": [
  {
   "cell_type": "code",
   "execution_count": 1,
   "metadata": {},
   "outputs": [],
   "source": [
    "import pandas as pd\n",
    "import numpy as np\n",
    "import seaborn as sns\n",
    "import matplotlib.pyplot as plt"
   ]
  },
  {
   "cell_type": "code",
   "execution_count": 2,
   "metadata": {},
   "outputs": [],
   "source": [
    "epsilons = [0.2, 0.15, 0.1, 0.05]\n",
    "\n",
    "def epsilon_to_num_samples(num_consumers, num_goods, epsilon, delta, c, excluded_pairs):\n",
    "    ser = np.ceil(np.log((2.0 * num_consumers * num_goods - len(excluded_pairs)) / delta) * 0.5 * (c / epsilon) * (c / epsilon)) * num_consumers * num_goods\n",
    "    ser = ser.astype('int64')\n",
    "    return ser\n",
    "\n",
    "def add_ea_num_samples(data, eps_col_name):\n",
    "    data['ea_num_samples'] = epsilon_to_num_samples(data['num_consumers'], \n",
    "                                             data['num_goods'], \n",
    "                                             data[eps_col_name], \n",
    "                                             0.1, \n",
    "                                             data['noise_factor'] + 10.0, \n",
    "                                             set())\n",
    "def add_savings_col(data):\n",
    "    add_ea_num_samples(data, 'final_epsilon')\n",
    "    data['savings'] = (1.0 - (data['total_num_samples'] / data['ea_num_samples'])) * 100.0\n",
    "    return data\n",
    "\n",
    "def select_data(data, selectors):\n",
    "    res = data\n",
    "    for col, val in selectors.items():\n",
    "        if val is not None:\n",
    "            res = res[res[col] == val]\n",
    "    return res\n",
    "\n",
    "def get_stats(data):\n",
    "    return data['savings'].mean()\n",
    "\n",
    "def get_summary(x, type_of_market = None, target_eps = None):\n",
    "    result = []\n",
    "    for num_c in [5, 10, 15, 20]:\n",
    "        res = []\n",
    "        for num_g in [5, 10, 15, 20]:\n",
    "            res += [get_stats(select_data(x, {'type_market' : type_of_market, \n",
    "                                              'num_consumers' : num_c, \n",
    "                                              'num_goods': num_g,\n",
    "                                              'target_eps': target_eps,\n",
    "                                              #'noise_factor': 1.0\n",
    "                                             }))]\n",
    "        result += [res]\n",
    "    return np.array(result)"
   ]
  },
  {
   "cell_type": "code",
   "execution_count": 3,
   "metadata": {},
   "outputs": [
    {
     "data": {
      "text/plain": [
       "Index(['num_consumers', 'num_goods', 'type_market', 'noise_factor',\n",
       "       'target_eps', 'final_epsilon', 'total_num_samples', 'total_pruned_0',\n",
       "       'total_pruned_1', 'total_pruned_2', 'ea_num_samples', 'savings'],\n",
       "      dtype='object')"
      ]
     },
     "execution_count": 3,
     "metadata": {},
     "output_type": "execute_result"
    }
   ],
   "source": [
    "results_dir = '../results/'\n",
    "data = pd.concat([pd.read_csv(f'{results_dir}results_eap_{source}.csv') for source in ['enrique', 'karina', 'grid']])\n",
    "data = add_savings_col(data)\n",
    "x = data.groupby(['num_consumers', 'num_goods', 'type_market', 'noise_factor', 'target_eps']).mean().reset_index()\n",
    "data.columns"
   ]
  },
  {
   "cell_type": "code",
   "execution_count": 96,
   "metadata": {},
   "outputs": [],
   "source": [
    "def heatmap(the_cmap):\n",
    "    eps = 0.15\n",
    "    data = np.flip(get_summary(x, target_eps=eps), 0)\n",
    "    ax = sns.heatmap(data, \n",
    "                     annot=True, \n",
    "                     cmap=the_cmap, \n",
    "                     xticklabels=[i for i in [5, 10, 15, 20]],\n",
    "                     yticklabels=[j for j in [20, 15, 10, 5]])\n",
    "    ax.set_xlabel('Number of Goods')\n",
    "    ax.set_ylabel('Number of Consumers')\n",
    "    ax.set_title(f'EAP data relative savings (as a % of EA samples), eps = {eps}')\n",
    "    plt.savefig(f'/Users/enriqueareyan/Documents/workspace/noisyce/plots/eap_savings_eps_{eps}.png', figsize=(1, 1), dpi=150)"
   ]
  },
  {
   "cell_type": "code",
   "execution_count": 97,
   "metadata": {},
   "outputs": [],
   "source": [
    "cmaps = ['Greys', 'Purples', 'Blues', 'Greens', 'Oranges', 'Reds',\n",
    "            'YlOrBr', 'YlOrRd', 'OrRd', 'PuRd', 'RdPu', 'BuPu',\n",
    "            'GnBu', 'PuBu', 'YlGnBu', 'PuBuGn', 'BuGn', 'YlGn']"
   ]
  },
  {
   "cell_type": "code",
   "execution_count": 98,
   "metadata": {},
   "outputs": [
    {
     "data": {
      "image/png": "[encoded data removed]",
      "text/plain": [
       "<Figure size 432x288 with 2 Axes>"
      ]
     },
     "metadata": {
      "needs_background": "light"
     },
     "output_type": "display_data"
    }
   ],
   "source": [
    "heatmap(cmaps[4])"
   ]
  }
 ],
 "metadata": {
  "kernelspec": {
   "display_name": "Python 3",
   "language": "python",
   "name": "python3"
  },
  "language_info": {
   "codemirror_mode": {
    "name": "ipython",
    "version": 3
   },
   "file_extension": ".py",
   "mimetype": "text/x-python",
   "name": "python",
   "nbconvert_exporter": "python",
   "pygments_lexer": "ipython3",
   "version": "3.7.1"
  }
 },
 "nbformat": 4,
 "nbformat_minor": 2
}
